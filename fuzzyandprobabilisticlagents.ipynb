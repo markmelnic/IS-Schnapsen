{
 "cells": [
  {
   "cell_type": "markdown",
   "metadata": {},
   "source": [
    "# Intelligent Systems 2020: 5th  practical assignment \n",
    "## Logical Agents\n",
    "\n",
    "Your name: \n",
    "\n",
    "Your VUnetID: \n",
    "\n",
    "If you do not provide your name and VUnetID we will not accept your submission. \n",
    "\n",
    "### Learning objectives\n",
    "At the end of this exercise you should be able to work with some basic fuzzy concepts, and implement and evaluate a simple probabilistic approach to playing Schnapsen. \n",
    "\n",
    "### Preliminaries\n",
    "\n",
    "In this worksheet we will build a Fuzzy Logic knowledge-base and implement a simple probabilistic strategy for an agent to play Schnapsen. \n",
    "\n",
    "\n",
    "### Practicalities\n",
    "\n",
    "Follow this Notebook step-by-step. \n",
    "\n",
    "Of course, you can do the exercises in any Programming Editor of your liking. But you do not have to. Feel free to simply write code in the Notebook. Please use your studentID+Assignment5.ipynb as the name of the Notebook.  \n",
    "\n",
    "Note: unlike the courses dedicated to programming we will not evaluate the style of the programs. But we will, however, test your programs on other data that we provide, and your program should give the correct output to the test-data as well.\n",
    "\n",
    "As was mentioned, the assignment is graded as pass/fail. To pass you need to have either a full working code or an explanation of what you tried and what didn't work for the tasks that you were unable to complete (you can use multi-line comments or a text cell).\n"
   ]
  },
  {
   "cell_type": "markdown",
   "metadata": {},
   "source": [
    "## Calculating Fuzzyvalues for a Formula (KnowledgeBase)\n",
    "\n",
    "The first task is to implement part of the algorithm to calculate a fuzzy value for a complex formula:  \n",
    "\n",
    "> f(¬A) = 1 - f(A) <br>\n",
    "> f(A v B) = max(f(A);f(B)) <br>\n",
    "> f(A & B) = min(f(A);f(B)) <br>\n",
    "> f(A -> B) = min(1;1 – f(A) + f(B)) <br>\n",
    "\n",
    "We will do this in a very simplistic way, which should still give you an additional idea on how this can be done. The main restriction is that we will only calculate the value of formulas in Clause Normal Form. This means we do not have to implement the rule for implication, and we do have a very simple structure of formulas: \n",
    "\n",
    "> (L11 v L12 v L13 v .... v L1n) <br>\n",
    "> & (L21 v L22 v L23 v .... v L2n) <br>\n",
    "> & ... \n",
    "\n",
    "where each of the L's is a Literal, or in other words an Atom, or a negation of an Atom. So, all that needs to be done is to be able to: <br>\n",
    "\n",
    "1) assign a fuzzy value V to an atom, or (1 - V) value in case it is a negation. <br> \n",
    "2) calculate the fuzzy value of a disjunction of values for Literals, and  <br>\n",
    "3) calculate the fuzzy value of a conjuction of values for disjuctions. <br>\n",
    "\n",
    "There are two steps that need to be taken and they will have to be done at two different places in the fuzzykb.py file. Open this file in a Python editor of your choice. First, we will have to define the value of a negated atom. \n",
    "\n",
    "#### Task 1A: Fuzzy negation\n",
    "Go to the definition of the NegFuzzySymbol class. Here in line 52, given a fuzzy value \"value\", the value of a negation has to be defined. Replace the line \"???\" with the correct code, and add the snippet to the following cell:"
   ]
  },
  {
   "cell_type": "raw",
   "metadata": {},
   "source": []
  },
  {
   "cell_type": "markdown",
   "metadata": {},
   "source": [
    "#### Task 1B: Conjunction and Disjunction \n",
    "The task is now to: \n",
    "1) define the fuzzy value of Clause based on the values of the symbols (you get those by calling symbol.value() for all symbols in a clause)<br>\n",
    "2) define the fuzzy value of the Knowlegde base (i.e. the conjunction of all the clauses) \n",
    "\n",
    "Go to the definition of the fuzzyvalue() function. Here in line 120 replace the lines \"???\" with the correct code, and add the snippet you wrote to the following cell:"
   ]
  },
  {
   "cell_type": "raw",
   "metadata": {},
   "source": []
  },
  {
   "cell_type": "markdown",
   "metadata": {},
   "source": [
    "Once you have succesfully finished the implementations of these methods, you should be able to run the following code."
   ]
  },
  {
   "cell_type": "code",
   "execution_count": null,
   "metadata": {},
   "outputs": [],
   "source": [
    "import sys\n",
    "from bots.kbbot.fuzzykb import fuzzyKB, FuzzySymbol\n",
    "\n",
    "# Define our symbols\n",
    "A = FuzzySymbol('A',0.3)\n",
    "B = FuzzySymbol('B',0.8)\n",
    "C = FuzzySymbol('C',0.6)\n",
    "\n",
    "# Create a new knowledge base\n",
    "kb = fuzzyKB()\n",
    "\n",
    "# Add clauses\n",
    "kb.add_clause(A, B, C)\n",
    "kb.add_clause(~A, B)\n",
    "kb.add_clause(~B, C)\n",
    "kb.add_clause(B, ~C)\n",
    "\n",
    "# Calculate the fuzzy value of the knowledge base (the conjunction of all the clauses).\n",
    "print(\"f(kb):\", kb.fuzzyvalue())"
   ]
  },
  {
   "cell_type": "markdown",
   "metadata": {},
   "source": [
    "### Task 2\n",
    "\n",
    "The next task is to model the properties of Schnapsen cards in a simple Fuzzy Representation, with the following propositions: \n",
    "\n",
    "> HC = HighCard<br>\n",
    "> VHC = VeryHighCard<br>\n",
    "> Avg = AverageCard<br>\n",
    "> Exp = ExpensiveCard<br>\n",
    "> Chp = CheapCard \n",
    "\n",
    "Now let us build a fuzzy knowledge-base with values for a Queen (there is not one correct answer, but try to model this as close as possible to the true value and cost of a Queen in Schnapsen. \n",
    "\n",
    "a) First, let us reset the knowledge base, and define our fuzzy variables for a Queen: "
   ]
  },
  {
   "cell_type": "code",
   "execution_count": null,
   "metadata": {},
   "outputs": [],
   "source": [
    "kb = fuzzyKB()\n",
    "# Define our symbols\n",
    "HC = ???\n",
    "VHC = ???\n",
    "Avg = ???\n",
    "Low = ???\n",
    "Chp = ???"
   ]
  },
  {
   "cell_type": "markdown",
   "metadata": {},
   "source": [
    "b) Let us define now a set of cards, and check to what degree our queen is a member of this set. We define the set of cards as a set that are   \n",
    "> 1. are either low, high or very high<br>\n",
    "> 2. neither very high, nore average<br>\n",
    "> 3. either not low or cheap, AND  <br>\n",
    "> 4. neither cheap, nor high"
   ]
  },
  {
   "cell_type": "code",
   "execution_count": null,
   "metadata": {},
   "outputs": [],
   "source": [
    "#Add clauses\n",
    "kb.add_clause(Low, HC, VHC)\n",
    "kb.add_clause(~VHC, ~Avg)\n",
    "kb.add_clause(~Low, Chp)\n",
    "kb.add_clause(~Chp, ~HC)"
   ]
  },
  {
   "cell_type": "markdown",
   "metadata": {},
   "source": [
    "Now run the script and report the output in the cell after the code."
   ]
  },
  {
   "cell_type": "code",
   "execution_count": null,
   "metadata": {},
   "outputs": [],
   "source": [
    "# Calculate the fuzzy value of the knowledge base (the conjunction of all the clauses).\n",
    "print(\"f(kb):\", kb.fuzzyvalue())"
   ]
  },
  {
   "cell_type": "markdown",
   "metadata": {},
   "source": [
    "Explain in your own words what does this output mean:"
   ]
  },
  {
   "cell_type": "markdown",
   "metadata": {},
   "source": []
  },
  {
   "cell_type": "markdown",
   "metadata": {},
   "source": [
    "## A Probability-based Bot. \n",
    "\n",
    "Now it is time to move to a real rational agent that plays Schnapsen, and to implement a probabilistic bot. The idea of this bot is described on the Canvas page for this assignment and in the probability.py file. \n",
    "\n",
    "### Tasks 3:\n",
    "You will have to finish the implementation of a bot that uses probabilistic reasoning to determine its next move. All you have to do is fill in the missing code at the lines marked with \"???\". At these spots, we explain what you will have to do, but we strongly recommend that you also have a careful look at the entire bot, and the documentation of the code to get the overall idea.  \n",
    "\n",
    "But first, let us not forget to initialise it:"
   ]
  },
  {
   "cell_type": "code",
   "execution_count": null,
   "metadata": {},
   "outputs": [],
   "source": [
    "import sys, random\n",
    "\n",
    "from api import State, engine, util"
   ]
  },
  {
   "cell_type": "markdown",
   "metadata": {},
   "source": [
    "Now you need to start coding. In the directory /bots, you will have to make a subdirectory called probability, and copy the provided file probability.py into this new directory. \n",
    "\n",
    "The next step is to finish the implemenation of this file. Open it in your favourite Python Editor and fill in the gaps. \n",
    "\n",
    "First, in line 101, you will need to implement the probability that the opponent has a problemCard. \n",
    "\n",
    "In line 107, you will have to update the maximal probability value and the chosen move accordingly. \n",
    "\n",
    "Now we can run a game between rand and your new bot, to check whether everything works fine. "
   ]
  },
  {
   "cell_type": "code",
   "execution_count": null,
   "metadata": {},
   "outputs": [],
   "source": [
    "# Choose your first player\n",
    "player1 = \"rand\"\n",
    "player2 = \"probability\"\n",
    "# Decide in which phase you want to start the game. \n",
    "startphase = 1\n",
    "# Decide whether you want verbose output or not \n",
    "verbose=True \n",
    "\n",
    "#And here you run a game on the engine. \n",
    "engine.play(util.load_player(player1),util.load_player(player2), state=State.generate(phase=startphase), max_time=10000, verbose=verbose)"
   ]
  },
  {
   "cell_type": "markdown",
   "metadata": {},
   "source": [
    "Provide in the following cell the code that you have written to make the probabilistic bot work:"
   ]
  },
  {
   "cell_type": "raw",
   "metadata": {},
   "source": []
  },
  {
   "cell_type": "markdown",
   "metadata": {},
   "source": [
    "An alternative might be to run games from the command-line in your terminal. To run a game between rand and probability just run: \n",
    "\n",
    "> python play.py -1 rand -2 probability \n",
    "\n",
    "or check out line python play.py -h for more details. Alternatively you can run a tournament with \n",
    " \n",
    "> python tournament.py -p rand,probability <br>\n",
    "(and again check for help with: python tournament.py -h). \n",
    "\n",
    "Of course, you can also run the tournament in this notebook with the code that we provided in the last assignment if you prefer it that way. \n",
    "\n",
    "### Task 4\n",
    "\n",
    "Run a tournament against some of the other bots, e.g. rand, kbbot or rdeep. Describe your findings in the next cell. "
   ]
  },
  {
   "cell_type": "markdown",
   "metadata": {},
   "source": []
  },
  {
   "cell_type": "markdown",
   "metadata": {},
   "source": [
    "## Utility\n",
    "\n",
    "Unless we are very much mistaken, your new probability bot will not perform very well. One reason for this is that our probabilistic strategy has a serious flaw: the Aces and 10s have a high probability of not having a higher card of the same suit, so that our strategy will pick valuable cards in phase 1. This is a high-gain, but also a high-risk strategy, as a reasonably good opponent would trump those cards and win valuable points. \n",
    "\n",
    "One possible solution is to combine the probability of a card being easily beaten with the costs it takes to loose such a card. We do this by introducing a notion of utily, which simply devides the probability of being good by the costs of a potential loss of the played card. \n",
    "\n",
    "### Task 5 \n",
    "\n",
    "Now you need to do a bit of coding again. In the directory /bots, you will have to make a subdirectory called utility, and copy the provided utility.py file into this new directory.\n",
    "\n",
    "The next step is to finish the implemenation of this file. Open it in your favourite Python Editor and fill in the gaps. \n",
    "\n",
    "First, you will need to copy the solutions from probability.py to utility.py in lines 97 and 115, but now also a single line in 108. \n",
    "\n",
    "Provide the written lines of code in the following cell. "
   ]
  },
  {
   "cell_type": "raw",
   "metadata": {},
   "source": []
  },
  {
   "cell_type": "markdown",
   "metadata": {},
   "source": [
    "### Task 6\n",
    "\n",
    "Now it is time to evaluate your two new bots: utility and probability. Run a number of tournaments in the next cell. \n",
    "Summarise what you did, and what the results were. "
   ]
  },
  {
   "cell_type": "markdown",
   "metadata": {},
   "source": []
  },
  {
   "cell_type": "markdown",
   "metadata": {},
   "source": [
    "### Task 7\n",
    "\n",
    "Again, unless we are much mistaken, the results will be disappointing for both bots. The final task is to change one of the bots and try to improve it. \n",
    "In the next cell, describe what changes you attempted to make, add the code that you have changed or added, and report on the tournaments you ran (what did you do, and what were the results). \n",
    "\n",
    "Note: do not despair, this is not a simple task and chances are that you will not manage to improve performance much. But still, describe what you have tried. "
   ]
  },
  {
   "cell_type": "markdown",
   "metadata": {},
   "source": []
  }
 ],
 "metadata": {
  "kernelspec": {
   "display_name": "Python 3",
   "language": "python",
   "name": "python3"
  },
  "language_info": {
   "codemirror_mode": {
    "name": "ipython",
    "version": 3
   },
   "file_extension": ".py",
   "mimetype": "text/x-python",
   "name": "python",
   "nbconvert_exporter": "python",
   "pygments_lexer": "ipython3",
   "version": "3.7.7"
  }
 },
 "nbformat": 4,
 "nbformat_minor": 4
}
