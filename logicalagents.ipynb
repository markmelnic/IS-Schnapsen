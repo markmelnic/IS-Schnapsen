{
 "cells": [
  {
   "cell_type": "markdown",
   "metadata": {},
   "source": [
    "# Intelligent Systems 2020: 4rd  practical assignment \n",
    "## Logical Agents\n",
    "\n",
    "Your name: Mark Melnic\n",
    "\n",
    "Your VUnetID: mmc560\n",
    "\n",
    "If you do not provide your name and VUnetID we will not accept your submission. \n",
    "\n",
    "### Learning objectives\n",
    "At the end of this exercise you should be able to work with logical agents on the Schnapsen platform\n",
    "\n",
    "1. Be able to apply a SAT solver to check for satisfiability and entailment (bots)\n",
    "2. Apply a SAT solver for build an knowledge-based agent for playing Schnapsen. \n",
    "3. Build own variants of a knowledge-based agent for Schnapsen. \n",
    "\n",
    "### Preliminaries\n",
    "\n",
    "In this worksheet we'll use Propositional Logic and a specific version of a Propositional Logic solver (SMT solver) to build a fully knowledge based agent playing Schnapsen. The idea is to represent the strategies humans apply to play the game and to apply logical reasoning to identify good, bad, safe or risky moves, whatever you wish to model. \n",
    "This kind of reasoning---setting up logical statements and proving unsatisfiability. \n",
    "\n",
    "First things first, let's deal with dependencies for using the kb bot, namely numpy and scipy. They should be installed fairly easily via \"pip install numpy\", \"pip install scipy\".\n",
    "\n",
    "\n",
    "### Practicalities\n",
    "\n",
    "Follow this Notebook step-by-step. \n",
    "\n",
    "Of course, you can do the exercises in any Programming Editor of your liking. But you do not have to. Feel free to simply write code in the Notebook. Please use your studentID+Assignment4.ipynb as the name of the Notebook.  \n",
    "\n",
    "Note: unlike the courses dedicated to programming we will not evaluate the style of the programs. But we will, however, test your programs on other data that we provide, and your program should give the correct output to the test-data as well.\n",
    "\n",
    "As was mentioned, the assignment is graded as pass/fail. To pass you need to have either a full working code or an explanation of what you tried and what didn't work for the tasks that you were unable to complete (you can use multi-line comments or a text cell).\n",
    "\n",
    "## Initialising \n",
    "\n",
    "First, let us make sure the necessary packages are installed, and imported. Run the following code:"
   ]
  },
  {
   "cell_type": "code",
   "execution_count": null,
   "metadata": {},
   "outputs": [],
   "source": [
    "import sys\n",
    "from bots.kbbot.kb import KB, Boolean, Integer, Constant"
   ]
  },
  {
   "cell_type": "markdown",
   "metadata": {},
   "source": [
    "## SAT solving and Entailment checking \n",
    "\n",
    "We will start with some exercises to use an existing SAT solver to check for satisfiability and entailment. "
   ]
  },
  {
   "cell_type": "code",
   "execution_count": null,
   "metadata": {},
   "outputs": [],
   "source": [
    "# Define our symbols\n",
    "A = Boolean('A')\n",
    "B = Boolean('B')\n",
    "C = Boolean('C')\n",
    "\n",
    "# Create a new knowledge base\n",
    "kb = KB()\n",
    "\n",
    "# Add clauses\n",
    "kb.add_clause(A, B, C)\n",
    "kb.add_clause(~A, B)\n",
    "kb.add_clause(~B, C)\n",
    "kb.add_clause(B, ~C)\n",
    "\n",
    "# this clause will make the KB unsatisfiable\n",
    "kb.add_clause(~A, ~B, C)"
   ]
  },
  {
   "cell_type": "markdown",
   "metadata": {},
   "source": [
    "This file first defines the three boolean symbols we will use (A, B and C), creates an empty knowledge base, and then adds the four following clauses:\n",
    "> A or B or C <br>\n",
    "> (not A) or B <br>\n",
    "> (not B) or C<br>\n",
    "> B or not C\n",
    "\n",
    "### Task 1\n",
    "Are there any models (assignments of values to these variables that make all clauses true)? Write down all the models of the knolwedge base in the following cell. "
   ]
  },
  {
   "cell_type": "markdown",
   "metadata": {},
   "source": [
    "1. A-T, B-T, C-T\n",
    "2. A-F, B-T, C-T"
   ]
  },
  {
   "cell_type": "markdown",
   "metadata": {},
   "source": [
    "Now run the script and report the output in the cell after the code. Explain what it means.  "
   ]
  },
  {
   "cell_type": "code",
   "execution_count": null,
   "metadata": {},
   "outputs": [],
   "source": [
    "# Print all models of the knowledge base\n",
    "for model in kb.models():\n",
    "    print(model)\n",
    "\n",
    "# Print out whether the KB is satisfiable (if there are no models, it is not satisfiable)\n",
    "print(kb.satisfiable())\n"
   ]
  },
  {
   "source": [
    "This code verifies each possible model and prints it. Then it checks whether or not the kb is satisfiable."
   ],
   "cell_type": "markdown",
   "metadata": {}
  },
  {
   "cell_type": "markdown",
   "metadata": {},
   "source": [
    "Now it is time to adapt your first knowledge-base, by adding stuff…. \n",
    "\n",
    "## Tasks 2: \n",
    "Add a clause to the knowledge base to that it becomes unsatisfiable. Report the line of code you added, and in a separate line, the result that you get from the SAT solver and your script. "
   ]
  },
  {
   "cell_type": "raw",
   "metadata": {},
   "source": []
  },
  {
   "cell_type": "markdown",
   "metadata": {},
   "source": [
    "Now you can already to build your own knowledge base, and do reasoning/inferencing with it. For example, check satisfiability of one of the questions of the working group automatically. \n"
   ]
  },
  {
   "cell_type": "markdown",
   "metadata": {},
   "source": [
    "### Task 3:\n",
    "Let  KB be the  knowledge base introduced in Exercise 7 of the Worksheet on Logical Agents: KB=\n",
    "> (P v Q) ^ (Q -> R) ^ (R -> -P)<br>\n",
    "> -(P <-> - Q)\n",
    "\n",
    "Write a new version of the script above to prove or disprove whether KB is satisfiable or not. You can put both the knowledge base construction (you will have to translate the axioms into CNF by hand before adding them to the KB), the printing of the model and the satisfiability check in the next cell. \n"
   ]
  },
  {
   "cell_type": "code",
   "execution_count": null,
   "metadata": {},
   "outputs": [],
   "source": [
    "P = Boolean('P')\n",
    "Q = Boolean('Q')\n",
    "R = Boolean('R')\n",
    "\n",
    "kb = KB()\n",
    "\n",
    "kb.add_clause(P, Q)\n",
    "kb.add_clause(~Q, R)\n",
    "kb.add_clause(~R, ~P)\n",
    "kb.add_clause(~P, ~Q)\n",
    "kb.add_clause(Q, P)\n",
    "\n",
    "for model in kb.models():\n",
    "    print(model)\n",
    "\n",
    "print(kb.satisfiable())"
   ]
  },
  {
   "cell_type": "markdown",
   "metadata": {},
   "source": [
    "### Task 4: \n",
    "Exercise 9 of this week's work session on logical agents contained the following knowledge base KB:\n",
    "\n",
    ">-A -> B <br> \n",
    "> B -> A <br>\n",
    "> A -> (C ^ D)\n",
    "\n",
    "Convert it to clause normal form, and write a script that creates this knowledge base as you did before. There are different subtasks: \n",
    "1) Print out its models and report them. <br>\n",
    "2) As seen in the exercise, the knowledge base entails A ^ C ^ D. Explain in your own words what this says about the possible models for the knowledge base?\n",
    "\n"
   ]
  },
  {
   "source": [
    "A = Boolean('A')\n",
    "B = Boolean('B')\n",
    "C = Boolean('C')\n",
    "D = Boolean('D')\n",
    "\n",
    "kb = KB()\n",
    "\n",
    "kb.add_clause(A, B)\n",
    "kb.add_clause(~B, A)\n",
    "kb.add_clause(~A, C)\n",
    "kb.add_clause(~A, D)\n",
    "\n",
    "for model in kb.models():\n",
    "    print(model)\n",
    "\n",
    "print(kb.satisfiable())"
   ],
   "cell_type": "code",
   "metadata": {},
   "execution_count": null,
   "outputs": []
  },
  {
   "cell_type": "markdown",
   "metadata": {},
   "source": [
    "In the previous question, you have shown that A ^ C ^ D is entailed by KB semantically (following the definition of entailment), where you used the prover to give you all the models. Now let us see whether you can actually prove entailment using the SAT solver directly.\n",
    "\n",
    "### Task 5: \n",
    "Show entailment of A ^ C ^ D by a proof by refutation. Write the script like above with the knowledge base your create in the following executable cell, including the control statements. \n"
   ]
  },
  {
   "cell_type": "code",
   "execution_count": null,
   "metadata": {},
   "outputs": [],
   "source": [
    "A = Boolean('A')\n",
    "B = Boolean('B')\n",
    "C = Boolean('C')\n",
    "D = Boolean('D')\n",
    "\n",
    "kb = KB()\n",
    "\n",
    "kb.add_clause(~A, ~B)\n",
    "kb.add_clause(B, ~A)\n",
    "kb.add_clause(A, ~C)\n",
    "kb.add_clause(A, ~D)\n",
    "\n",
    "for model in kb.models():\n",
    "    print(model)\n",
    "\n",
    "print(kb.satisfiable())"
   ]
  },
  {
   "cell_type": "markdown",
   "metadata": {},
   "source": [
    "Explain in your own words what you have done, and what you can conclude from the output of your script for Task 5."
   ]
  },
  {
   "cell_type": "markdown",
   "metadata": {},
   "source": [
    "In the first example, upon checking if the KB is satisfiable, it returned 2 models and True. After executing the second example, where the same clauses are negated, the KB returned a satisfiable result and 2 models have been found, however they are the exact opposite to the models found in the first script. This means that the KB will be satisfied with the same clauses whether they are negated or not."
   ]
  },
  {
   "cell_type": "markdown",
   "metadata": {},
   "source": [
    "## Implementing Schnapsen with an existing SAT solver\n",
    "\n",
    "Now, we are ready to create a bot that used a knowledge base. Let us first see how we can represent some of the knowledge needed for making strategic decisions in propositional logic. \n",
    "\n",
    "The idea is that you check with a SAT reasoner, which we provide, whether a knowledge base entails that a certain move adhere to a certain strategy. In the followng example this strategy is trivial, namely a card adheres to the PlayJack strategy if it is a Jack. So, all we have to model is which card is a Jack (cards with index 4,9,14 and 19) and that \n",
    "\n",
    "> For all x the following holds PlayJack(x) <-> Jack(x)\n",
    "\n",
    "This formula is, of course, not in Propositional Logic, but needs to be translated, which results in many different clauses (once transferred into Clause Normal Form). Once this is done, we can check that PlayJack(4) is entailed by the knowledge base,  while PlayJack(5) is not. We do this by adding the negated propositional variables pj4 or pj5 to the knowledge base and check for satisfiability (proof by refutation) as we did before. \n",
    "\n",
    "### Task 6\n",
    "Copy the outcome of the entailment test for pj4 and pj5 into the cell after the code/result, and explain in your own words what it means. "
   ]
  },
  {
   "cell_type": "code",
   "execution_count": null,
   "metadata": {},
   "outputs": [],
   "source": [
    "import sys\n",
    "from bots.kbbot.kb import KB, Boolean, Integer, Constant\n",
    "\n",
    "# Define our propositional symbols\n",
    "# J1 is true if the card with index 1 is a jack, etc\n",
    "# You need to initialise all variables that you need for you strategies and game knowledge.\n",
    "# Add those variables here.. The following list is complete for the Play Jack strategy.\n",
    "J0 = Boolean('j0')\n",
    "J1 = Boolean('j1')\n",
    "J2 = Boolean('j2')\n",
    "J3 = Boolean('j3')\n",
    "J4 = Boolean('j4')\n",
    "J5 = Boolean('j5')\n",
    "J6 = Boolean('j6')\n",
    "J7 = Boolean('j7')\n",
    "J8 = Boolean('j8')\n",
    "J9 = Boolean('j9')\n",
    "J10 = Boolean('j10')\n",
    "J11 = Boolean('j11')\n",
    "J12 = Boolean('j12')\n",
    "J13 = Boolean('j13')\n",
    "J14 = Boolean('j14')\n",
    "J15 = Boolean('j15')\n",
    "J16 = Boolean('j16')\n",
    "J17 = Boolean('j17')\n",
    "J18 = Boolean('j18')\n",
    "J19 = Boolean('j19')\n",
    "PJ0 = Boolean('pj0')\n",
    "PJ1 = Boolean('pj1')\n",
    "PJ2 = Boolean('pj2')\n",
    "PJ3 = Boolean('pj3')\n",
    "PJ4 = Boolean('pj4')\n",
    "PJ5 = Boolean('pj5')\n",
    "PJ6 = Boolean('pj6')\n",
    "PJ7 = Boolean('pj7')\n",
    "PJ8 = Boolean('pj8')\n",
    "PJ9 = Boolean('pj9')\n",
    "PJ10 = Boolean('pj10')\n",
    "PJ11 = Boolean('pj11')\n",
    "PJ12 = Boolean('pj12')\n",
    "PJ13 = Boolean('pj13')\n",
    "PJ14 = Boolean('pj14')\n",
    "PJ15 = Boolean('pj15')\n",
    "PJ16 = Boolean('pj16')\n",
    "PJ17 = Boolean('pj17')\n",
    "PJ18 = Boolean('pj18')\n",
    "PJ19 = Boolean('pj19')\n",
    "\n",
    "# Create a new knowledge base\n",
    "kb = KB()\n",
    "\n",
    "# GENERAL INFORMATION ABOUT THE CARDS\n",
    "# This adds information which cards are Jacks\n",
    "kb.add_clause(J4)\n",
    "kb.add_clause(J9)\n",
    "kb.add_clause(J14)\n",
    "kb.add_clause(J19)\n",
    "# Add here whatever is needed for your strategy.\n",
    "\n",
    "# DEFINITION OF THE STRATEGY\n",
    "# Add clauses (This list is sufficient for this strategy)\n",
    "# PJ is the strategy to play jacks first, so all we need to model is all x PJ(x) <-> J(x),\n",
    "# In other words that the PJ strategy should play a card when it is a jack\n",
    "kb.add_clause(~J4, PJ4)\n",
    "kb.add_clause(~J9, PJ9)\n",
    "kb.add_clause(~J14, PJ14)\n",
    "kb.add_clause(~J19, PJ19)\n",
    "kb.add_clause(~PJ4, J4)\n",
    "kb.add_clause(~PJ9, J9)\n",
    "kb.add_clause(~PJ14, J14)\n",
    "kb.add_clause(~PJ19, J19)\n",
    "# Add here other strategies\n",
    "\n",
    "# check for entailment (add negation of the to be entailed formula)\n",
    "kb.add_clause(~PJ4)\n",
    "# print all models of the knowledge base\n",
    "for model in kb.models():\n",
    "    print(model)\n",
    "\n",
    "# print out whether the KB is satisfiable (if there are no models, it is not satisfiable)\n",
    "print(kb.satisfiable())\n"
   ]
  },
  {
   "cell_type": "markdown",
   "metadata": {},
   "source": [
    "*Write the two result of your script here (ran twice with different input), and explain the result.*"
   ]
  },
  {
   "cell_type": "markdown",
   "metadata": {},
   "source": [
    "### Task 7 \n",
    "\n",
    "Provide the executable cell below a new version of the above script with the knowledge for a strategy PlayAs, always playing an Ace first. Check whether you can do reasoning to check whether a card is entailed by the knowledge base or not. Again, print the result for a check with an Ace as well as with a card differen from an Ace. \n"
   ]
  },
  {
   "cell_type": "code",
   "execution_count": null,
   "metadata": {},
   "outputs": [],
   "source": [
    "### provide your script here. "
   ]
  },
  {
   "cell_type": "markdown",
   "metadata": {},
   "source": [
    "*Write the two result of your script here (ran twice with different input), and explain the result.*"
   ]
  },
  {
   "cell_type": "markdown",
   "metadata": {},
   "source": [
    "## Task 8\n",
    "\n",
    "Build a more complex logical strategies. For example, you can define the notion of a cheap card, as being either a jack, king or queen, and devise a strategy that plays cheap card first. Test whether you can use logical reasoning to check whether the correctness of a move w.r.t. this strategy is entailed by your knowledge base. Again, provide your script, and print the result.\n"
   ]
  },
  {
   "cell_type": "code",
   "execution_count": null,
   "metadata": {},
   "outputs": [],
   "source": [
    "### provide your script here. "
   ]
  },
  {
   "cell_type": "markdown",
   "metadata": {},
   "source": [
    "*Write the two result of your script here (ran twice with different input), and explain the result.*"
   ]
  },
  {
   "cell_type": "markdown",
   "metadata": {},
   "source": [
    "## Implementing a Logic-based Agent *kbbot.py*\n",
    "\n",
    "The final task is to implement and run a rational game agent using the logic-based approach introduced in the previous section of this assignment.\n",
    "\n",
    "Look at the code implemented in the knowledge based bot (kbbot.py) in the codebase and try to understand the code. All it does is to go through the 5 possible moves and to call a method kb_consistent with arguments state and move. \n",
    "\n",
    "This method initialises a knowledge base and loads the needed game information from a file load.py. This is where the knowledge is represented about the game and the strategy. If you play the bot kbbot, it will play according to the PlayJack strategy, as this is what is represented in load.py.\n",
    "\n",
    "Run a tournament between rand, kbbot and rdeep, and report on how this naive knowledge-based bot performs: "
   ]
  },
  {
   "cell_type": "code",
   "execution_count": null,
   "metadata": {},
   "outputs": [],
   "source": [
    "### Please provide the code for the tournement here. "
   ]
  },
  {
   "cell_type": "markdown",
   "metadata": {},
   "source": [
    "Interpret the results in your own words: "
   ]
  },
  {
   "cell_type": "markdown",
   "metadata": {},
   "source": []
  },
  {
   "cell_type": "markdown",
   "metadata": {},
   "source": [
    "### Task 9 \n",
    "\n",
    "Replace the knowledge and strategy you modelled in one of the previous questions into a new file load2.py. You might want to create a new kbbot2, which loads your alternative strategy load2, so that you can play kbbot against kbbot2. \n",
    "\n",
    "Task 9a) Run some games between one of the other bots until you find an example that your strategy works (e.g. that the bot indeed plays always a Jack first if you play the JackFirst strategy. "
   ]
  },
  {
   "cell_type": "code",
   "execution_count": null,
   "metadata": {},
   "outputs": [],
   "source": []
  },
  {
   "cell_type": "markdown",
   "metadata": {},
   "source": [
    "Please copy-paste below parts of an example printout where your strategy works: "
   ]
  },
  {
   "cell_type": "markdown",
   "metadata": {},
   "source": []
  },
  {
   "cell_type": "markdown",
   "metadata": {},
   "source": [
    "Task 9b) Finally, run the tournament again (copy the tournament code in the cell below): \n"
   ]
  },
  {
   "cell_type": "code",
   "execution_count": null,
   "metadata": {},
   "outputs": [],
   "source": [
    "### Please provide the code for the new tournement here. "
   ]
  },
  {
   "cell_type": "markdown",
   "metadata": {},
   "source": [
    "Report on how your new strategy performs with respect to the other bots, including the kbbot with the PlayJack strategy.  "
   ]
  },
  {
   "cell_type": "markdown",
   "metadata": {},
   "source": []
  }
 ],
 "metadata": {
  "kernelspec": {
   "display_name": "Python 3",
   "language": "python",
   "name": "python3"
  },
  "language_info": {
   "codemirror_mode": {
    "name": "ipython",
    "version": 3
   },
   "file_extension": ".py",
   "mimetype": "text/x-python",
   "name": "python",
   "nbconvert_exporter": "python",
   "pygments_lexer": "ipython3",
   "version": "3.8.1-final"
  }
 },
 "nbformat": 4,
 "nbformat_minor": 4
}