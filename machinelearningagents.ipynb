{
 "cells": [
  {
   "cell_type": "markdown",
   "metadata": {},
   "source": [
    "# Intelligent Systems 2020: 6th  practical assignment \n",
    "## Machine Learning Agents\n",
    "\n",
    "Your name: Mark Melnic\n",
    "\n",
    "Your VUnetID: mmc560\n",
    "\n",
    "If you do not provide your name and VUnetID we will not accept your submission. \n",
    "\n",
    "### Preliminaries\n",
    "\n",
    "At the end of this exercise you should be able to work with some basic Machine Learning concepts, and implement and evaluate a learning-based approach to playing Schnapsen. In this notebook we are going to create an adaptive bot. We will use the principle discussed in the machine learning lecture, but now in an agent setting. This comes down to using basic hill-climbing search, but learn the heuristic function rather than implementing it. This will require a few basic ingredients:\n",
    "\n",
    "> Script that plays games between existing bots and creates a dataset to learn from. The dataset contains each observed state, labeled with the (eventual) winner of the game. See the script train-ml-bot.py.<br>\n",
    "> A function that translates a state object to a feature vector. See the function features(...) in ml.py<br>\n",
    "> An implementation with a hill-climbing bot that gets its heuristic from a machine learning model. See bots/ml/ml.py \n",
    "\n",
    "Feature vectors were discussed in the lecture. Didn't get it, or working ahead? See\n",
    "https://brilliant.org/wiki/feature-vector/\n",
    "https://www.youtube.com/watch?v=3Vy47dbI708\n",
    "\n",
    "\n",
    "\n",
    "### Practicalities\n",
    "\n",
    "Follow this Notebook step-by-step. For this course it is necessary that you manipulate the python programmes we provide. You can do the exercises in any Programming Editor of your liking. Still, please fill in the questions in this notebook as usual. You can also run tournaments in it if you want, but running them in your editor or via the commandline seems much more convenient. \n",
    "\n",
    "Please use your studentID+Assignment6.ipynb as the name of the Notebook, and fill in the missing cells.   \n",
    "\n",
    "Note: unlike the courses dedicated to programming we will not evaluate the style of the programs. But we will, however, test your programs on other data that we provide, and your program should give the correct output to the test-data as well.\n",
    "\n",
    "As was mentioned, the assignment is graded as pass/fail. To pass you need to have either a full working code or an explanation of what you tried and what didn't work for the tasks that you were unable to complete (you can use multi-line comments or a text cell).\n"
   ]
  },
  {
   "cell_type": "markdown",
   "metadata": {},
   "source": [
    "## Train a Machine Learning Model \n",
    "\n",
    "The plan is as follows: we run the train-ml-bot.py script, which creates a model for us, and places it in the bots/ml directory. All you need to do is to is to complete the feature extraction method in bots/ml/ml.py It returns a basic feature vector modelling the properties of the game state, or more precisely the bot’s perspective of the game state (which means that in phase 1 of the game there are parts of the feature values unknown (for the cards that are either in the adversaries hands or in the pile). \n",
    "\n",
    "To complete the function, you'll need to write some code which transforms information you get from state.py into integer values.\n",
    "\n",
    "To run the bots using the commandline/terminal:\n",
    "    - If you want to play 2 bots against each other, e.g. rand and bully: python play.py -1 rand -2 bully\n",
    "    - To see what other options there are: python play.py --help\n",
    "    - If you run python tournament.py it'll play a round-robin tournament between bully, rand and rdeep where every pair of players play 10 matches. Run python tournament.py --help to see how you can change the players, and the number of games played (if needed).\n",
    "\n",
    "### Task 1\n",
    "\n",
    "Fill in the missing code (all the '???' lines) and run a number of games to check whether your agent \"works\". You can either run the play.py script in a command line, or copy the play code from one of the previous notebooks here (do not forget to import all the necessary modules and code). \n",
    "\n",
    "Please copy you code in the following cell\n",
    "\n",
    "\n"
   ]
  },
  {
   "cell_type": "raw",
   "metadata": {},
   "source": []
  },
  {
   "source": [
    "# in the value function\r\n",
    "value = next_state.make_assumption()\r\n",
    "\r\n",
    "# in the features function\r\n",
    "p1_points = state.__p1_points\r\n",
    "p2_points = state.__p2_points\r\n",
    "\r\n",
    "p1_pending_points = state.__p1_pending_points\r\n",
    "p2_pending_points = state.__p2_pending_points\r\n",
    "\r\n",
    "trump_suit =state.get_trump_suit()\r\n",
    "phase = state.get_phase()\r\n",
    "stock_size = state.get_stock_size()\r\n",
    "leader = state.leader()\r\n",
    "whose_turn = state.whose_turn()\r\n",
    "opponents_played_card = state.get_opponents_played_card()"
   ],
   "cell_type": "code",
   "metadata": {},
   "execution_count": 1,
   "outputs": []
  },
  {
   "cell_type": "raw",
   "metadata": {},
   "source": []
  },
  {
   "cell_type": "markdown",
   "metadata": {},
   "source": [
    "### Task 2: \n",
    "\n",
    "The first thing we can do to improve the bot, is to improve the quality of the games it observes. Change the player in train-ml-bot.py to a kbbot and/or rdeep player, and retrain the model. You may wish to lower the number of games played in train-ml-bot.py if the games are taking a long time. Please describe in the following cell what you can observe when running a tournament like before after training ml. \n"
   ]
  },
  {
   "cell_type": "markdown",
   "metadata": {},
   "source": []
  },
  {
   "cell_type": "markdown",
   "metadata": {},
   "source": [
    "## Training in different phases\n",
    "\n",
    "Using alphabeta for training might not be a good idea, since it has to start in phase 2 with perfect information. This may not translate so well to phase 1 gameplay. Nevertheless, it is a good idea to experiment. If you wish to do this, you have to specify in train-ml-bot.py that the training games start in phase 2.\n",
    "\n",
    "### Task 3\n",
    "\n",
    "Re-run the tournament. Does the machine learning bot do better? Show the output, and mention which bot was used for training.\n"
   ]
  },
  {
   "cell_type": "markdown",
   "metadata": {},
   "source": []
  },
  {
   "cell_type": "markdown",
   "metadata": {},
   "source": [
    "## Testing more than one ML agent\n",
    "\n",
    "We will need a more robust way of testing different machine learning approaches against each other. Change the training script so that it doesn't overwrite the previous model. Now write a script that creates two ml players with different models and plays games between them. This might then look like this: \n",
    "\n",
    "> from bots.ml import ml<br>\n",
    "player1 = ml.Bot(model_file='./models/rand-model.pkl')<br>\n",
    "player2 = ml.Bot(model_file='./models/rdeep-model.pkl')\n",
    "\n",
    "Read and train-ml-bot.py carefully for inspiration.\n",
    "\n",
    "### Task 4\n",
    "\n",
    "Make three models: one by observing rand players, one by observing rdeep players, and one by observing one of the ml players you made earlier. Describe the experiments you run, and their results in the next cell. "
   ]
  },
  {
   "cell_type": "markdown",
   "metadata": {},
   "source": []
  },
  {
   "cell_type": "markdown",
   "metadata": {},
   "source": [
    "## Improving the set of features \n",
    "\n",
    "You may not see a lot of improvement for clever tricks like this. This is because the game has a lot of belief states, i.e. has an extremely broad search tree. The machine learning model only sees as small proportion, and chances are that no “similar” game has been described in the training set. Maybe the card deck and number of won or lost points. \n",
    "\n",
    "To improve this, we might need better features. Think of some simple additional features and add them to the features() method in ml.py.\n",
    "\n",
    "> Note that this means the bot can no longer use your old models, since they rely on 4-dimensional feature vectors. You'll most likely want to create a copy of ml.py for every feature-extraction strategy you would like to try, or add different feature extractors as a parameter to the bot.\n",
    "\n",
    "Feature extraction is an art. You want to translate the information in the state into numbers in a way that makes sense to a linear model. We'll discuss this in-depth in the lectures. To start with, just try and think of numbers you can compute from the state that are high if the state is good for player one and low if the state is bad. You might want to add combinations of important features to create a design matrix, as discussed in class. \n",
    "\n",
    "### Task 5\n",
    "Add some simple features and show that the player improves. Describe the features you added, copy their code and copy the result of the tournement into the following cell. "
   ]
  },
  {
   "cell_type": "markdown",
   "metadata": {},
   "source": []
  },
  {
   "cell_type": "markdown",
   "metadata": {},
   "source": [
    "## Feature engineering \n",
    "\n",
    "Finally, since coming up with features is an ad-hoc business, you'll want to test features you come up with to see if they actually add to the performance. How would you go about this? Could there be features that depend on each other? Ie. add feature A or B separately and there's no improvement, but add them together and the bot gets better?\n",
    "\n",
    "### Task 6\n",
    "\n",
    "As shown in the lecture, adding the product of existing features (a design matrix) is a simple way to increase the power of your method without changing models.\n",
    "\n",
    "Try to add at least 2 combined features to your feature table and evaluate it in a number of tournaments. Describe the new features and copy the code in the next cell. \n",
    "\n",
    "Also, copy the result of the experiments and an interpretation in your own words. \n",
    "\n"
   ]
  },
  {
   "cell_type": "markdown",
   "metadata": {},
   "source": []
  },
  {
   "cell_type": "markdown",
   "metadata": {},
   "source": [
    "## Knock yourself out\n",
    "\n",
    "Of course, there is a wealth of other things to explore. Here are some things you can try out which will be similar to the things to do for \n",
    "\n",
    "1) Have a look at the sklearn documentation: http://scikit-learn.org/stable/modules/classes.html It's a bit complex, but maybe you can figure how to use different machine learning models. The logistic regression we used is a very simple starting point.\n",
    "\n",
    "2) Evaluate your model on the dataset by cross validation. See if you can improve the performance by tweaking its parameters,\n",
    "\n",
    "Have fun. To be continued in Project Intelligent Systems in Period 3. "
   ]
  }
 ],
 "metadata": {
  "kernelspec": {
   "name": "python3",
   "display_name": "Python 3.9.1 64-bit",
   "metadata": {
    "interpreter": {
     "hash": "4a8933e2c89081465856ba08057702862357b115a7b2f97515fd2dbbe18eb2a4"
    }
   }
  },
  "language_info": {
   "codemirror_mode": {
    "name": "ipython",
    "version": 3
   },
   "file_extension": ".py",
   "mimetype": "text/x-python",
   "name": "python",
   "nbconvert_exporter": "python",
   "pygments_lexer": "ipython3",
   "version": "3.9.1-final"
  }
 },
 "nbformat": 4,
 "nbformat_minor": 4
}